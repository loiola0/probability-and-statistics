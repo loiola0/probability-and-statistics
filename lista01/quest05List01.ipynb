{
  "nbformat": 4,
  "nbformat_minor": 0,
  "metadata": {
    "colab": {
      "name": "quest05List01.ipynb",
      "provenance": [],
      "collapsed_sections": []
    },
    "kernelspec": {
      "name": "python3",
      "display_name": "Python 3"
    }
  },
  "cells": [
    {
      "cell_type": "code",
      "metadata": {
        "id": "DWg9bY4dr-5r",
        "colab_type": "code",
        "colab": {
          "base_uri": "https://localhost:8080/",
          "height": 529
        },
        "outputId": "4ab808db-f13e-4b35-f99f-840156de7fc2"
      },
      "source": [
        "import pandas as pd\n",
        "import numpy as np\n",
        "import matplotlib.pyplot as plt\n",
        "\n",
        "datas_individuals = pd.Series([1,2,2,3,3,3,3,4,5,8,11,11,12,16,22,23,37,39,42,45,46,47,51,52,56,90])\n",
        "\n",
        "#calcula a média\n",
        "print(\"Média: \",datas_individuals.mean())\n",
        "#calcula a mediana\n",
        "print(\"Median: \",datas_individuals.median())\n",
        "#calcula os 3 quartis\n",
        "quantiles = np.quantile(datas_individuals,[0.25,0.5,0.75])\n",
        "print(\"Primeiro Quartil: \", quantiles[0],\" Segundo Quartil: \", quantiles[1], \"Terceiro Quartil: \", quantiles[2])\n",
        "#mostra o intervalo interquartil\n",
        "interquartil = int(quantiles[2]-quantiles[0]);\n",
        "print(\"Intervalo Interquartil: \",interquartil)\n",
        "\n",
        "#calcular o desvio padrão\n",
        "desvioPadrao = pd.Series.std(datas_individuals)\n",
        "print(\"Desvio Padrão: \", desvioPadrao)\n",
        "\n",
        "#Exibir histogramas\n",
        "\n",
        "fig, ax = plt.subplots(ncols=1, figsize=(10, 7))\n",
        "numBins = 5\n",
        "ax.hist(datas_individuals, numBins, rwidth=0.75, facecolor='green', alpha=0.8)\n",
        "ax.set_title('Gráfico com bin:5')\n",
        "\n",
        "plt.show()"
      ],
      "execution_count": 7,
      "outputs": [
        {
          "output_type": "stream",
          "text": [
            "Média:  24.384615384615383\n",
            "Median:  14.0\n",
            "Primeiro Quartil:  3.25  Segundo Quartil:  14.0 Terceiro Quartil:  44.25\n",
            "Intervalo Interquartil:  41\n",
            "Desvio Padrão:  23.571299366945258\n"
          ],
          "name": "stdout"
        },
        {
          "output_type": "display_data",
          "data": {
            "image/png": "[encoded data removed]",
            "text/plain": [
              "<Figure size 720x504 with 1 Axes>"
            ]
          },
          "metadata": {
            "tags": [],
            "needs_background": "light"
          }
        }
      ]
    }
  ]
}